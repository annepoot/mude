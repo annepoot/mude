{
 "cells": [
  {
   "cell_type": "code",
   "execution_count": null,
   "id": "80d585d2-6e7a-4a30-b3a6-0921ae399e60",
   "metadata": {},
   "outputs": [],
   "source": [
    "import pandas as pd\n",
    "import numpy as np\n",
    "import pyvista as pv\n",
    "from scipy.interpolate import griddata\n",
    "import matplotlib.pyplot as plt\n",
    "\n",
    "from dash import Dash, html, dcc\n",
    "import plotly.express as px\n",
    "import plotly.graph_objects as go\n",
    "\n",
    "from sklearn.neural_network import MLPRegressor\n",
    "from sklearn.preprocessing import StandardScaler\n",
    "from sklearn.model_selection import train_test_split"
   ]
  },
  {
   "cell_type": "markdown",
   "id": "888ef7ce-0bec-4630-8ef1-321315c01f38",
   "metadata": {},
   "source": [
    "## Introduction"
   ]
  },
  {
   "cell_type": "markdown",
   "id": "19cb1954-141e-4b94-9d3d-28126aafd13f",
   "metadata": {},
   "source": [
    "In this notebook, you should apply the techniques you learned for regression in a more realistic problem setting. We have a collection of bridges modeled as 2D beams that all feature one defect. Our goal is to train a model to learn the location of this defect as a function of displacement measurements. Since sensors are expensive, we can only place them in five locations on the bridges. The assignment includes the following tasks:\n",
    "\n",
    "- Select five locations for the sensors based on a visual inspection of the displacement field \n",
    "- Train a neural network to learn a mapping from the displacement measurements to the defect location, comment on the choice of hyperparameters (number of hidden layers, nodes per layer, ...)\n",
    "- Visualise your results and evaluate the accuracy of your network"
   ]
  },
  {
   "cell_type": "markdown",
   "id": "69f7d085",
   "metadata": {
    "pycharm": {
     "name": "#%% md\n"
    }
   },
   "source": [
    "![overview beam structure](img/beam_structure.png)"
   ]
  },
  {
   "cell_type": "markdown",
   "id": "4610b888",
   "metadata": {
    "pycharm": {
     "name": "#%% md\n"
    }
   },
   "source": [
    "\n",
    "Let's take a look at the dataset first. It is a CSV file, and a convenient way to read and manipulate this file type is via the `Dataframe` of the `pandas` library. Printing a few lines of the dataset before performing the analysis is good practice. We load the dataset into a `Dataframe` from the `pandas` library and print a few rows from the top and bottom. The dataset consists of a collection of displacement fields of the bridges. We have a total of 1000 bridges, as can be seen from the tail of the data frame `df.tail()`, and 712 locations in which the displacements have been measured, as can be seen from the tail of a sample `bar_0.tail()`, which is just a single sample we took from the dataset. Note that some of the columns, such as E_pure, nu, and location, are uniform for a specific sample owing to the dataset's structure."
   ]
  },
  {
   "cell_type": "code",
   "execution_count": null,
   "id": "fbbe7b1c-eff1-40aa-a190-f0b04f02f768",
   "metadata": {},
   "outputs": [],
   "source": [
    "df = pd.read_csv('regression-data.csv')\n",
    "bar_0 = df[df['sample'] == 0]\n",
    "df.head()"
   ]
  },
  {
   "cell_type": "code",
   "execution_count": null,
   "id": "d5334850-43fe-4f9c-b0f6-9439c930d061",
   "metadata": {},
   "outputs": [],
   "source": [
    "df.tail()"
   ]
  },
  {
   "cell_type": "code",
   "execution_count": null,
   "id": "0ecae500-dce6-442a-8dd3-87e493137355",
   "metadata": {},
   "outputs": [],
   "source": [
    "bar_0.tail()"
   ]
  },
  {
   "cell_type": "markdown",
   "id": "3991f097-a24f-4733-b5b1-875c5b4ccb0a",
   "metadata": {},
   "source": [
    "## Data visualization and feature extraction"
   ]
  },
  {
   "cell_type": "markdown",
   "id": "a00df669-8188-4d24-aadd-96d3fb8ab23c",
   "metadata": {},
   "source": [
    "Your first task is to select measurement locations. The following cell plots the displacement in the x- or y-direction or the magnitude over the beam's domain. You can select the three components via the buttons on the topside. In addition, you can see all the available measurement locations. You can hover over the plot, which will display the data frame's corresponding node ID."
   ]
  },
  {
   "cell_type": "code",
   "execution_count": null,
   "id": "692bdb08-07a4-4a5f-8d9e-f8d6a1c2d3f9",
   "metadata": {
    "tags": []
   },
   "outputs": [],
   "source": [
    "# extract data corresponding to one single bridge, and interpolate the displacements on a grid for plotting\n",
    "bar_0 = df[df['sample'] == 0]\n",
    "grid_x, grid_y = np.mgrid[0.02:9.98:250j, 0.02:1.98:50j]\n",
    "grid_z = griddata(bar_0[['x','y']].to_numpy(), np.sqrt(bar_0['dx']**2 + bar_0['dy']**2), (grid_x, grid_y))\n",
    "\n",
    "# plot displacement-field and nodes\n",
    "fig = go.Figure()\n",
    "fig.add_trace(go.Heatmap(z=grid_z.transpose(),\n",
    "                         x=grid_x[:,0],\n",
    "                         y=grid_y[0],\n",
    "                         hoverinfo='skip',\n",
    "                         name='heatmap'))\n",
    "\n",
    "# plot nodes\n",
    "fig.add_trace(go.Scatter(x=bar_0['x'],\n",
    "                         y=bar_0['y'],\n",
    "                         mode='markers',\n",
    "                         marker_color='black',\n",
    "                         name='',\n",
    "                         hovertemplate='<b>Node</b>: %{text}',\n",
    "                         text=bar_0['node']))\n",
    "\n",
    "# add buttons to display different displacement fields\n",
    "fig.update_layout(\n",
    "    updatemenus=[\n",
    "        dict(\n",
    "            buttons=list([\n",
    "                dict(\n",
    "                    args=['z', [griddata(bar_0[['x','y']].to_numpy(), np.sqrt(bar_0['dx']**2 + bar_0['dy']**2), (grid_x, grid_y)).transpose()]],\n",
    "                    label='magnitude', method='restyle'),\n",
    "                dict(\n",
    "                    args=['z', [griddata(bar_0[['x','y']].to_numpy(), bar_0['dx'], (grid_x, grid_y)).transpose()]],\n",
    "                    label='x',\n",
    "                    method='restyle'),\n",
    "                dict(\n",
    "                    args=['z', [griddata(bar_0[['x','y']].to_numpy(), bar_0['dy'], (grid_x, grid_y)).transpose()]],\n",
    "                    label='y',\n",
    "                    method='restyle')\n",
    "            ]),\n",
    "            direction='right', pad={'r': 10, 't': 10}, showactive=True, x=0.5, xanchor='left', y=1.1,\n",
    "            yanchor='bottom', type='buttons', font=dict(size=13)\n",
    "        ),\n",
    "    ]\n",
    ")\n",
    "\n",
    "# Add annotation for button\n",
    "fig.add_annotation(dict(font=dict(size=13), x=0.5, y=1.13, showarrow=False,\n",
    "                   xref='paper', yref='paper', xanchor='right', yanchor='bottom', text='Displacement: '))\n",
    "\n",
    "# update xaxis range and show figure\n",
    "fig.update_xaxes(range=(-0.2,10.2), constrain='domain')\n",
    "fig.show()"
   ]
  },
  {
   "cell_type": "markdown",
   "id": "4e267d18-7f85-41f7-b356-7a6f86ec5462",
   "metadata": {},
   "source": [
    "Select five measurement locations that you expect to be informative. Plug them into the predefined list `measure_locs`. Remember that we only have a budget of five locations, make sure to not exceed this threshold to secure a spot on the leaderboard (more to that later). The remaining code in this cell collects the displacements from all of our beams at the selected nodes and the defect location. These quantities are stored in the arrays `measurements` and `defect_locs`."
   ]
  },
  {
   "cell_type": "code",
   "execution_count": null,
   "id": "a8385552-fb55-4633-a86f-1be8f0970c5c",
   "metadata": {},
   "outputs": [],
   "source": [
    "# define measurement locations, get corresponding coord\n",
    "# ----------------------------------------\n",
    "measure_locs = [115, 180, 25, 372, 425] # <- fill in the indices of the 5 points you select\n",
    "# ----------------------------------------\n",
    "\n",
    "measure_coords = np.array([bar_0[bar_0['node'] == loc][['x','y']].to_numpy() for loc in measure_locs]).squeeze(1)\n",
    "\n",
    "# double check the measurement locations\n",
    "print(measure_coords)\n",
    "                             \n",
    "# read measurement from all samples in dataframe\n",
    "measurements = np.empty((df['sample'].max()+1,0))\n",
    "\n",
    "# loop through measurement locations and collect measuments from all samples\n",
    "for loc in measure_locs:\n",
    "    dx = df[df['node'] == loc]['dx'].to_numpy()\n",
    "    dy = df[df['node'] == loc]['dy'].to_numpy()\n",
    "    measurements = np.append(measurements, np.vstack((dx, dy)).transpose(),axis=1)\n",
    "    \n",
    "measurements_noisy = measurements + np.random.randn(*measurements.shape) * .5e-5\n",
    "\n",
    "# get defect locations\n",
    "defect_locs = df[df['node']==0]['location'].to_numpy()"
   ]
  },
  {
   "cell_type": "markdown",
   "id": "03fc9f7f-bffc-4b12-9ad4-9ee0ae1d60f0",
   "metadata": {},
   "source": [
    "Let's plot the defect location as a function of the displacement measurements to get a feel for the dataset:"
   ]
  },
  {
   "cell_type": "code",
   "execution_count": null,
   "id": "601760f2-2ef4-4444-b7bd-cbbc2693f456",
   "metadata": {},
   "outputs": [],
   "source": [
    "# plot a few hyperplanes of the dataset\n",
    "fig, ax = plt.subplots(5,2, figsize=(10,20))\n",
    "[ax.flat[i].scatter(measurements_noisy[:,i], defect_locs, s=5) for i in range(len(ax.flat))]\n",
    "[ax.flat[i].ticklabel_format(style='sci', axis='x', scilimits=(0,0)) for i in range(len(ax.flat))]\n",
    "[ax[0,i].set_title(title) for i,title in enumerate([r'$u_x$',r'$u_y$'])]\n",
    "[ax[i,0].text(-0.4, 0.46, f'node {measure_locs[i]}', transform=ax[i,0].transAxes, fontsize=12) for i in range(ax.shape[0])]\n",
    "[ax[i,0].set_ylabel(r'$x_{defect}$') for i in range(ax.shape[0])]\n",
    "plt.show()"
   ]
  },
  {
   "cell_type": "markdown",
   "id": "f53d51b6-bd38-41a9-9ab9-4c172d9d276c",
   "metadata": {},
   "source": [
    "We can see that most measurements do not have a unique mapping to the defect location, suggesting we need more features to distinguish between the deformation states. Let's take a look at a 2D scatterplot of our data. Note that this is a projection of the data on this particular 2D subspace of the input space. The color bar indicates the defect location of a data point. This looks more promising; the defect location seems to be an injective function when considering multiple measurements."
   ]
  },
  {
   "cell_type": "code",
   "execution_count": null,
   "id": "387855e1-ba3f-472f-9961-601e4ff81d08",
   "metadata": {},
   "outputs": [],
   "source": [
    "fig, ax = plt.subplots(figsize=(6,5))\n",
    "plot1 = ax.scatter(measurements_noisy[::5,3], measurements_noisy[::5,7], c=defect_locs[::5], s=40)\n",
    "[ax.ticklabel_format(style='sci', axis=axis, scilimits=(0,0)) for axis in ['x','y']]\n",
    "fig.colorbar(plot1)\n",
    "plt.show()"
   ]
  },
  {
   "cell_type": "markdown",
   "id": "75b76821-a34f-41b9-b3de-b8113a791d62",
   "metadata": {},
   "source": [
    "## Neural Network Training"
   ]
  },
  {
   "cell_type": "markdown",
   "id": "9c16f4ed-3c96-4d24-a36c-13df30a43dbf",
   "metadata": {},
   "source": [
    "We provide you with a function to train the network, but it only offers a bare minimum of features. You can train the network with this default training loop, but this is neither an efficient nor a robust way to do so. Consider the techniques we discussed in the notebooks to control the model complexity. You can extend the loop with features such as early stopping or L2-regularization (you can pass a regularizing parameter `alpha` to the `partial_fit` member function of the `NN` object. You can also tune the network architecture by adapting the number of hidden layers and the number of neurons per layer in the next cell. Try to justify your specific modeling choices."
   ]
  },
  {
   "cell_type": "code",
   "execution_count": null,
   "id": "43a88f42-78c2-4c9e-94f7-0002c3abb2ed",
   "metadata": {},
   "outputs": [],
   "source": [
    "# function to train the NN\n",
    "def NN_train(NN, X_train, y_train, X_val, y_val, max_epoch=10000, verbose=False, lr_init=1e-3, ):\n",
    "    \n",
    "    # set learning rate\n",
    "    lr = lr_init\n",
    "    NN.learning_rate_init = lr\n",
    "    \n",
    "    # loop over iterations\n",
    "    for epoch in range(max_epoch):\n",
    "        \n",
    "        # train for one epoch, compute rmse on validation set\n",
    "        NN.partial_fit(X_train, y_train)\n",
    "        \n",
    "        # print loss (optional)\n",
    "        if verbose and epoch%200==0:\n",
    "            print(\"\\nIteration {}\".format(epoch))\n",
    "    \n",
    "    if (epoch==max_epoch-1): print(\"Reachead max_epochs ( {} )\".format(max_epoch))\n",
    "    \n",
    "    # return trained network and last rmse\n",
    "    return NN"
   ]
  },
  {
   "cell_type": "code",
   "execution_count": null,
   "id": "7fea8d65-df04-407b-ab00-8fbd4bb3f8a8",
   "metadata": {},
   "outputs": [],
   "source": [
    "# set random seed\n",
    "np.random.seed(1)\n",
    "indices = np.arange(measurements_noisy.shape[0])\n",
    "\n",
    "# set up scalers and scale data\n",
    "xscaler, yscaler = StandardScaler(), StandardScaler()\n",
    "yit = yscaler.inverse_transform\n",
    "xit = xscaler.inverse_transform\n",
    "X, y = xscaler.fit_transform(measurements_noisy), yscaler.fit_transform(defect_locs[:,None]).reshape(-1)\n",
    "X_train, X_test, y_train, y_test, ind_train, ind_test = train_test_split(X, y, indices, train_size=0.6)\n",
    "X_val, X_test, y_val, y_test, ind_val, ind_test = train_test_split(X_test, y_test, ind_test, train_size=0.5)\n",
    "\n",
    "# Set up NN\n",
    "NN = MLPRegressor(solver='sgd', hidden_layer_sizes=(5, 5), activation='tanh')\n",
    "\n",
    "# train NN\n",
    "NN = NN_train(NN, X_train, y_train, X_val, y_val, max_epoch=10000, verbose=True)"
   ]
  },
  {
   "cell_type": "markdown",
   "id": "d29eec5e-030d-48ac-9e3c-b7bd049f059f",
   "metadata": {},
   "source": [
    "# Visualizing result\n",
    "You can use the following plotting routines to visualize your predictions. Keep in mind that all of the following graphs are based on projections of the input data on 1D or 2D subspaces that suppress at least part of the information contained in the dataset. Those projections, however, are necessary to enable visualizations of the predictions."
   ]
  },
  {
   "cell_type": "code",
   "execution_count": null,
   "id": "f9044744-0196-4a9f-8d9e-55f6c6e9b335",
   "metadata": {},
   "outputs": [],
   "source": [
    "# y_pred = NN.predict(X_test)\n",
    "y_pred = NN.predict(X_test)\n",
    "fig, ax = plt.subplots(figsize = (6,5))\n",
    "loc = 3\n",
    "ax.scatter(xit(X_test)[:,loc], yit(y_test[:,None]).reshape(-1), label='truth', s=30)\n",
    "ax.scatter(xit(X_test)[:,loc], yit(y_pred[:,None]).reshape(-1), label='predition', s=30)\n",
    "ax.legend()\n",
    "ax.ticklabel_format(style='sci', axis='x', scilimits=(0,0))\n",
    "ax.set_xlabel(r'$u$')\n",
    "ax.set_ylabel(r'$x_{defect}$')\n",
    "plt.show()"
   ]
  },
  {
   "cell_type": "code",
   "execution_count": null,
   "id": "247a838f-e77a-44e1-b351-fbff0bdc7948",
   "metadata": {},
   "outputs": [],
   "source": [
    "# plot prediciton for projection of inputs on 2D subspace\n",
    "fig, ax = plt.subplots(1,3,figsize=(12,3.8), constrained_layout=True, sharey=True)\n",
    "plot0 = ax[0].scatter(xit(X_test)[:,3], xit(X_test)[:,7], c=yit(y_test[:,None]).reshape(-1))\n",
    "plot1 = ax[1].scatter(xit(X_test)[:,3], xit(X_test)[:,7], c=yit(y_pred[:,None]).reshape(-1))\n",
    "plot2 = ax[2].scatter(xit(X_test)[:,3], xit(X_test)[:,7], c=np.abs(y_pred-y_test), cmap='Reds', vmin=0, vmax=0.2)\n",
    "[plt.colorbar(plot, ax=ax[i]) for i, plot in enumerate([plot0, plot1, plot2])]\n",
    "[ax[i].set_title(title) for i, title in enumerate([r'truth $y$', r'prediction $\\hat y$', r'$|y - \\hat y|$'])]\n",
    "[axs.ticklabel_format(style='sci', axis=axis, scilimits=(0,0)) for axis in ['x','y'] for axs in ax]\n",
    "plt.show()"
   ]
  },
  {
   "cell_type": "markdown",
   "id": "054afdbd-5505-41d9-a170-0afdf9af3f20",
   "metadata": {},
   "source": [
    "You can pick a few datapoints (or samples/bridges) from the test set to inspect how well our predictions compare with the ground truth. Do this by varying the index value in the code below."
   ]
  },
  {
   "cell_type": "code",
   "execution_count": null,
   "id": "7fb5e9a6-2065-40b9-accd-debfddbd1e94",
   "metadata": {},
   "outputs": [],
   "source": [
    "# extract data corresponding to one single bridge, an interpolate the displacements on a grid for plotting\n",
    "# ----------------------------\n",
    "index = 56  # <- Change this value to plot different samples!\n",
    "# ----------------------------\n",
    "\n",
    "total_idx = ind_test[index]\n",
    "\n",
    "# get corresponding bar, displacement fields and measurement location coordinates\n",
    "bar = df[df['sample'] == total_idx]\n",
    "measure_coords = np.array([bar[bar['node'] == loc][['x','y']].to_numpy() for loc in measure_locs]).squeeze(1)\n",
    "grid_x, grid_y = np.mgrid[0.02:9.98:250j, 0.02:1.98:50j]\n",
    "grid_z = griddata(bar[['x','y']].to_numpy(), np.sqrt(bar['dx']**2 + bar['dy']**2), (grid_x, grid_y))\n",
    "\n",
    "# # plot displacement field and nodes\n",
    "fig = go.Figure()\n",
    "fig.add_trace(go.Heatmap(z=grid_z.transpose(), x=grid_x[:,0], y=grid_y[0],\n",
    "                         hoverinfo='skip', name='heatmap'))\n",
    "\n",
    "# add buttons for additinal fields\n",
    "fig.update_layout(\n",
    "    updatemenus=[\n",
    "        dict(\n",
    "            buttons=list([\n",
    "                dict(\n",
    "                    args=['z', [griddata(bar[['x','y']].to_numpy(), np.sqrt(bar['dx']**2 + bar['dy']**2), (grid_x, grid_y)).transpose()]],\n",
    "                    label='magnitude', method='restyle'),\n",
    "                dict(\n",
    "                    args=['z', [griddata(bar[['x','y']].to_numpy(), bar['dx'], (grid_x, grid_y)).transpose()]],\n",
    "                    label='x',\n",
    "                    method='restyle'),\n",
    "                dict(\n",
    "                    args=['z', [griddata(bar[['x','y']].to_numpy(), bar['dy'], (grid_x, grid_y)).transpose()]],\n",
    "                    label='y',\n",
    "                    method='restyle')\n",
    "            ]),\n",
    "            direction='right', pad={'r': 10, 't': 10}, showactive=True, x=0.5, xanchor='left', y=1.2,\n",
    "            yanchor='bottom', type='buttons', font=dict(size=13)\n",
    "        ),\n",
    "    ]\n",
    ")\n",
    "\n",
    "# Add annotation for button\n",
    "fig.add_annotation(dict(font=dict(size=13), x=0.5, y=1.23, showarrow=False,\n",
    "                   xref='paper', yref='paper', xanchor='right', yanchor='bottom', text='Displacement: '))\n",
    "\n",
    "# plot measurement locations\n",
    "fig.add_trace(go.Scatter(x = measure_coords[:,0], y = measure_coords[:,1], mode='markers',\n",
    "                         marker=dict(size=10, color='DarkSlateGrey', line=dict(width=2, color='white')),\n",
    "                         hovertemplate='<b>Node</b>: %{text}', text=measure_locs, name=''))\n",
    "\n",
    "# get prediction and true value for defect location\n",
    "defect_loc_pred = yit(NN.predict(X_test[[index],:])[:,None])[0,0]\n",
    "defect_loc_true = yit(y_test[[index]][None,:])[0,0]\n",
    "\n",
    "# plot vertical lines at the two locations\n",
    "fig.add_vline(x=defect_loc_pred, name='pred', line=dict(color='LightSlateGrey'))\n",
    "fig.add_vline(x=defect_loc_true, name='truth', line=dict(color='LightSlateGrey'), line_dash='dot')\n",
    "\n",
    "# put labels on the lines\n",
    "fig.add_annotation(dict(font=dict(size=13), x=defect_loc_pred, y=1.15, showarrow=False,\n",
    "                   xref='x', yref='paper', text='prediction: {:.2f}'.format(defect_loc_pred)))\n",
    "fig.add_annotation(dict(font=dict(size=13), x=defect_loc_true, y=-.22, showarrow=False,\n",
    "                   xref='x', yref='paper', text='truth: {:.2f}'.format(defect_loc_true)))\n",
    "                        \n",
    "# update axis and show figure\n",
    "fig.update_xaxes(range=(-0.2,10.2), constrain='domain')\n",
    "fig.show()"
   ]
  },
  {
   "cell_type": "markdown",
   "id": "d091dcb4-431a-4818-a02b-8c6555e39a02",
   "metadata": {},
   "source": [
    "Finally, you need to compute the RMSE for all samples in the test set to quantify our accuracy. Show us your implementation - If you get a new high score, we'll put you on top of the leaderboard!"
   ]
  },
  {
   "cell_type": "code",
   "execution_count": null,
   "id": "01e8ac9d-e3bb-4076-8d76-931ca201f578",
   "metadata": {},
   "outputs": [],
   "source": [
    "y_pred_test = NN.predict(X_test)\n",
    "rmse_test = np.sqrt(np.sum((yit(y_pred_test[:,None]) - yit(y_test[:,None])).reshape(-1)**2) / y_test.shape[0])\n",
    "print(\"RMSE on test set for best performing model: {:.4e}\".format(rmse_test))"
   ]
  },
  {
   "cell_type": "code",
   "execution_count": null,
   "id": "39dd0369",
   "metadata": {
    "pycharm": {
     "name": "#%%\n"
    }
   },
   "outputs": [],
   "source": []
  },
  {
   "cell_type": "code",
   "execution_count": null,
   "id": "00e5b2a3",
   "metadata": {
    "pycharm": {
     "name": "#%%\n"
    }
   },
   "outputs": [],
   "source": []
  }
 ],
 "metadata": {
  "kernelspec": {
   "display_name": "Python 3 (ipykernel)",
   "language": "python",
   "name": "python3"
  },
  "language_info": {
   "codemirror_mode": {
    "name": "ipython",
    "version": 3
   },
   "file_extension": ".py",
   "mimetype": "text/x-python",
   "name": "python",
   "nbconvert_exporter": "python",
   "pygments_lexer": "ipython3",
   "version": "3.9.7"
  }
 },
 "nbformat": 4,
 "nbformat_minor": 5
}
